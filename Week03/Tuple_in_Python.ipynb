{
  "cells": [
    {
      "cell_type": "markdown",
      "metadata": {
        "id": "UcJI4tS35DSV"
      },
      "source": [
        "**Tuple**"
      ]
    },
    {
      "cell_type": "markdown",
      "metadata": {
        "id": "Q6v1phWg5FT9"
      },
      "source": [
        "Tuple items are ordered, unchangeable, and allow duplicate values."
      ]
    },
    {
      "cell_type": "code",
      "execution_count": null,
      "metadata": {
        "colab": {
          "background_save": true,
          "base_uri": "https://localhost:8080/"
        },
        "id": "YstZ_FzO5Qz_",
        "outputId": "773ae8df-a86c-47b5-b4df-bbfd80556ffb"
      },
      "outputs": [
        {
          "name": "stdout",
          "output_type": "stream",
          "text": [
            "('apple', 'banana', 'mango', 'cherry')\n"
          ]
        }
      ],
      "source": [
        "tuple1 = ('apple','banana','mango','cherry')\n",
        "print(tuple1)"
      ]
    },
    {
      "cell_type": "code",
      "execution_count": null,
      "metadata": {
        "colab": {
          "background_save": true,
          "base_uri": "https://localhost:8080/"
        },
        "id": "2AdwAkSv5Y_8",
        "outputId": "c6a01c65-d012-4bbe-fe0f-048b8a432c8e"
      },
      "outputs": [
        {
          "name": "stdout",
          "output_type": "stream",
          "text": [
            "4\n"
          ]
        }
      ],
      "source": [
        "#lenght\n",
        "\n",
        "print(len(tuple1))"
      ]
    },
    {
      "cell_type": "code",
      "execution_count": null,
      "metadata": {
        "colab": {
          "background_save": true,
          "base_uri": "https://localhost:8080/"
        },
        "id": "1-qvfSX85g7H",
        "outputId": "3576285c-3c5f-44db-a2a4-1020e20b488e"
      },
      "outputs": [
        {
          "name": "stdout",
          "output_type": "stream",
          "text": [
            "<class 'tuple'>\n"
          ]
        }
      ],
      "source": [
        "#type\n",
        "\n",
        "print(type(tuple1))"
      ]
    },
    {
      "cell_type": "code",
      "execution_count": null,
      "metadata": {
        "colab": {
          "background_save": true,
          "base_uri": "https://localhost:8080/"
        },
        "id": "m_FjZ4ZP5lBy",
        "outputId": "d8219d6d-c630-4cf1-87fe-954d15a47a13"
      },
      "outputs": [
        {
          "name": "stdout",
          "output_type": "stream",
          "text": [
            "<class 'tuple'>\n"
          ]
        }
      ],
      "source": [
        "#empty tuple\n",
        "tuple2 = ()\n",
        "print(type(tuple2))"
      ]
    },
    {
      "cell_type": "code",
      "execution_count": null,
      "metadata": {
        "colab": {
          "background_save": true,
          "base_uri": "https://localhost:8080/"
        },
        "id": "4_t5-4Mn50_A",
        "outputId": "0cf4762f-1745-49b7-bc28-5e62337f57ec"
      },
      "outputs": [
        {
          "name": "stdout",
          "output_type": "stream",
          "text": [
            "<class 'tuple'>\n"
          ]
        }
      ],
      "source": [
        "#create tuple with one item\n",
        "tuple3 = ('apple',)\n",
        "print(type(tuple3))"
      ]
    },
    {
      "cell_type": "code",
      "execution_count": null,
      "metadata": {
        "colab": {
          "background_save": true,
          "base_uri": "https://localhost:8080/"
        },
        "id": "ZPwzRbPM59_n",
        "outputId": "7ff688bd-23b9-43f6-8fdd-ea90fd63fc5b"
      },
      "outputs": [
        {
          "name": "stdout",
          "output_type": "stream",
          "text": [
            "('apple', 'banana', 'mango')\n"
          ]
        }
      ],
      "source": [
        "#tuple() constructor\n",
        "\n",
        "this_tuple = tuple(('apple','banana','mango'))\n",
        "print(this_tuple)"
      ]
    },
    {
      "cell_type": "code",
      "execution_count": null,
      "metadata": {
        "colab": {
          "background_save": true,
          "base_uri": "https://localhost:8080/"
        },
        "id": "t76q_9p76LE-",
        "outputId": "8d6a89fd-89de-43d0-8f08-254158f0997e"
      },
      "outputs": [
        {
          "name": "stdout",
          "output_type": "stream",
          "text": [
            "mango\n",
            "pineapple\n",
            "('mango', 'cherry', 'pineapple', 'kiwi')\n",
            "('apple', 'mango', 'cherry', 'pineapple', 'kiwi')\n",
            "('mango', 'cherry', 'pineapple', 'kiwi', 'orange')\n",
            "('pineapple', 'kiwi')\n"
          ]
        }
      ],
      "source": [
        "tuple5 = ('apple','mango','cherry','pineapple','kiwi','orange')\n",
        "\n",
        "#access tuplle item\n",
        "print(tuple5[1])\n",
        "\n",
        "#negative indexing\n",
        "print(tuple5[-3])\n",
        "\n",
        "#range of indexes\n",
        "print(tuple5[1:5])\n",
        "print(tuple5[:5])\n",
        "print(tuple5[1:])\n",
        "print(tuple5[-3:-1])"
      ]
    },
    {
      "cell_type": "code",
      "execution_count": null,
      "metadata": {
        "colab": {
          "background_save": true,
          "base_uri": "https://localhost:8080/"
        },
        "id": "rBbimiQh6yTL",
        "outputId": "805142b6-6e27-43cb-d413-1c4ac7b81b21"
      },
      "outputs": [
        {
          "name": "stdout",
          "output_type": "stream",
          "text": [
            "present\n"
          ]
        }
      ],
      "source": [
        "#check if item exists\n",
        "if \"apple\" in tuple5:\n",
        "  print('present')"
      ]
    },
    {
      "cell_type": "code",
      "execution_count": null,
      "metadata": {
        "colab": {
          "background_save": true,
          "base_uri": "https://localhost:8080/"
        },
        "id": "FTjaEBqc7EoZ",
        "outputId": "37e4db17-9c8d-41fc-cea7-863d1b8f853c"
      },
      "outputs": [
        {
          "name": "stdout",
          "output_type": "stream",
          "text": [
            "('banana', 'cherry')\n"
          ]
        }
      ],
      "source": [
        "#remove items\n",
        "thistuple = (\"apple\", \"banana\", \"cherry\")\n",
        "y = list(thistuple)\n",
        "y.remove(\"apple\")\n",
        "thistuple = tuple(y)\n",
        "print(thistuple)"
      ]
    },
    {
      "cell_type": "code",
      "execution_count": null,
      "metadata": {
        "colab": {
          "background_save": true,
          "base_uri": "https://localhost:8080/"
        },
        "id": "6QqFGaW-7Tf0",
        "outputId": "cfefbaa7-50fc-40e0-dd8e-77b008b38f18"
      },
      "outputs": [
        {
          "name": "stdout",
          "output_type": "stream",
          "text": [
            "('apple', 'banana', 'cherry', 'orange')\n"
          ]
        }
      ],
      "source": [
        "#add items\n",
        "thistuple = (\"apple\", \"banana\", \"cherry\")\n",
        "y = list(thistuple)\n",
        "y.append(\"orange\")\n",
        "thistuple = tuple(y)\n",
        "print(thistuple)"
      ]
    },
    {
      "cell_type": "code",
      "execution_count": null,
      "metadata": {
        "colab": {
          "background_save": true,
          "base_uri": "https://localhost:8080/"
        },
        "id": "7Zof27er7f-g",
        "outputId": "792668fd-fcb3-4a46-d0a8-a6fb0afc75bf"
      },
      "outputs": [
        {
          "name": "stdout",
          "output_type": "stream",
          "text": [
            "apple\n",
            "banana\n",
            "cherry\n"
          ]
        }
      ],
      "source": [
        "#unpacking tuple\n",
        "a = (\"apple\", \"banana\", \"cherry\")\n",
        "\n",
        "(green, yellow, red) = a\n",
        "\n",
        "print(green)\n",
        "print(yellow)\n",
        "print(red)"
      ]
    },
    {
      "cell_type": "code",
      "execution_count": null,
      "metadata": {
        "colab": {
          "background_save": true,
          "base_uri": "https://localhost:8080/"
        },
        "id": "1RQNWgH97wC0",
        "outputId": "92bb146e-38a2-4afe-e1dd-2feec3c0811e"
      },
      "outputs": [
        {
          "name": "stdout",
          "output_type": "stream",
          "text": [
            "apple\n",
            "banana\n",
            "['cherry', 'strawberry', 'raspberry']\n"
          ]
        }
      ],
      "source": [
        "#using asterisk*\n",
        "fruits = (\"apple\", \"banana\", \"cherry\", \"strawberry\", \"raspberry\")\n",
        "\n",
        "(green, yellow, *red) = fruits\n",
        "\n",
        "print(green)\n",
        "print(yellow)\n",
        "print(red)"
      ]
    },
    {
      "cell_type": "code",
      "execution_count": null,
      "metadata": {
        "colab": {
          "background_save": true,
          "base_uri": "https://localhost:8080/"
        },
        "id": "2vsCIL6N72uX",
        "outputId": "24ff411e-6e5a-4506-e24e-2320d55109e0"
      },
      "outputs": [
        {
          "name": "stdout",
          "output_type": "stream",
          "text": [
            "apple\n",
            "banana\n",
            "cherry\n"
          ]
        }
      ],
      "source": [
        "#loop through tuple\n",
        "thistuple = (\"apple\", \"banana\", \"cherry\")\n",
        "for x in thistuple:\n",
        "  print(x)"
      ]
    },
    {
      "cell_type": "code",
      "execution_count": null,
      "metadata": {
        "colab": {
          "background_save": true,
          "base_uri": "https://localhost:8080/"
        },
        "id": "hPne73xG7-fD",
        "outputId": "7722b74e-cfc6-46bd-adf5-cde637251265"
      },
      "outputs": [
        {
          "name": "stdout",
          "output_type": "stream",
          "text": [
            "apple\n",
            "banana\n",
            "cherry\n"
          ]
        }
      ],
      "source": [
        "#using while loop\n",
        "i = 0\n",
        "while i < len(thistuple):\n",
        "  print(thistuple[i])\n",
        "  i = i+1"
      ]
    },
    {
      "cell_type": "code",
      "execution_count": null,
      "metadata": {
        "colab": {
          "background_save": true,
          "base_uri": "https://localhost:8080/"
        },
        "id": "3dzGWw_p8JbF",
        "outputId": "114bfaba-8046-4a77-f48c-96c1b89b6ee3"
      },
      "outputs": [
        {
          "name": "stdout",
          "output_type": "stream",
          "text": [
            "('a', 'b', 'c', 1, 2, 3)\n"
          ]
        }
      ],
      "source": [
        "#join two tuple\n",
        "tuple1 = (\"a\", \"b\" , \"c\")\n",
        "tuple2 = (1, 2, 3)\n",
        "\n",
        "tuple3 = tuple1 + tuple2\n",
        "print(tuple3)"
      ]
    },
    {
      "cell_type": "markdown",
      "metadata": {
        "id": "MwJ2tj1B8RUh"
      },
      "source": [
        "**Method**"
      ]
    },
    {
      "cell_type": "markdown",
      "metadata": {
        "id": "-LOsisaM8S_K"
      },
      "source": [
        "\n",
        "\n",
        "1.   count()\t- Returns the number of times a specified value occurs in a tuple\n",
        "2.   index()\t- Searches the tuple for a specified value and returns the position of where it was found\n",
        "\n"
      ]
    }
  ],
  "metadata": {
    "colab": {
      "name": "Tuple_in_Python.ipynb",
      "provenance": []
    },
    "kernelspec": {
      "display_name": "Python 3",
      "name": "python3"
    },
    "language_info": {
      "name": "python"
    }
  },
  "nbformat": 4,
  "nbformat_minor": 0
}