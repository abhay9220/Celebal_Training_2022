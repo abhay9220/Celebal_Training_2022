{
  "nbformat": 4,
  "nbformat_minor": 0,
  "metadata": {
    "colab": {
      "name": "File_Handling_in_Python.ipynb",
      "provenance": []
    },
    "kernelspec": {
      "name": "python3",
      "display_name": "Python 3"
    },
    "language_info": {
      "name": "python"
    }
  },
  "cells": [
    {
      "cell_type": "markdown",
      "source": [
        "**File Handling**"
      ],
      "metadata": {
        "id": "fL_UCcDGddlT"
      }
    },
    {
      "cell_type": "markdown",
      "source": [
        "The key function for working with files in python is the **open()** function."
      ],
      "metadata": {
        "id": "BXOUHzcMdgmM"
      }
    },
    {
      "cell_type": "markdown",
      "source": [
        "The **open()** function takes two parameters: filename and mode"
      ],
      "metadata": {
        "id": "2zdbE5TGd_Zj"
      }
    },
    {
      "cell_type": "markdown",
      "source": [
        "There are 4 different methods for openings file:\n",
        "\n",
        "*   **\"r\"** - read(default value). opens a file for reading, error if the file does not exist\n",
        "*   **\"a\"** - opens file for appending, creates the file if it does not exist\n",
        "\n",
        "*   **\"w\"** - opens file for writing, creates the file if it does not exist\n",
        "*   **\"x\"** - creates the file, returns errors if the file exist\n",
        "\n",
        "\n",
        "\n"
      ],
      "metadata": {
        "id": "5q6t29aHeMMJ"
      }
    },
    {
      "cell_type": "code",
      "source": [
        "#open the file\n",
        "f = open('coe.txt')"
      ],
      "metadata": {
        "id": "tUgEXPyNfyFA"
      },
      "execution_count": 1,
      "outputs": []
    },
    {
      "cell_type": "code",
      "source": [
        "#read the file\n",
        "f = open('coe.txt','r')\n",
        "print(f.read())"
      ],
      "metadata": {
        "colab": {
          "base_uri": "https://localhost:8080/"
        },
        "id": "-0EHzmwugFSp",
        "outputId": "730f5a02-f71f-46a4-b03c-56c3b9c98c7b"
      },
      "execution_count": 2,
      "outputs": [
        {
          "output_type": "stream",
          "name": "stdout",
          "text": [
            "Woops! I have deleted the content!\n"
          ]
        }
      ]
    },
    {
      "cell_type": "code",
      "source": [
        "#read only parts of the file\n",
        "#you can specify how many characters you want to return\n",
        "f = open('coe.txt','r')\n",
        "print(f.read(44))"
      ],
      "metadata": {
        "colab": {
          "base_uri": "https://localhost:8080/"
        },
        "id": "MwAWXgaVhyc5",
        "outputId": "de6da578-fdf0-48f2-c46c-72c17aa94c60"
      },
      "execution_count": 3,
      "outputs": [
        {
          "output_type": "stream",
          "name": "stdout",
          "text": [
            "Woops! I have deleted the content!\n"
          ]
        }
      ]
    },
    {
      "cell_type": "code",
      "source": [
        "#read lines\n",
        "#return one line by using the readline method\n",
        "f = open('coe.txt','r')\n",
        "print(f.readline())"
      ],
      "metadata": {
        "colab": {
          "base_uri": "https://localhost:8080/"
        },
        "id": "WV8jrgTqiB-B",
        "outputId": "de0e48c5-6295-46fc-da89-d5b5b9955dcd"
      },
      "execution_count": 4,
      "outputs": [
        {
          "output_type": "stream",
          "name": "stdout",
          "text": [
            "Woops! I have deleted the content!\n"
          ]
        }
      ]
    },
    {
      "cell_type": "code",
      "source": [
        "#by using looping through the lines of the file you can read the whole file line by line\n",
        "f = open('coe.txt','r')\n",
        "for x in f:\n",
        "  print(x)"
      ],
      "metadata": {
        "colab": {
          "base_uri": "https://localhost:8080/"
        },
        "id": "__BVJJn9izIi",
        "outputId": "da3a2e7f-a624-4950-9be3-e80ecaeced30"
      },
      "execution_count": 5,
      "outputs": [
        {
          "output_type": "stream",
          "name": "stdout",
          "text": [
            "Woops! I have deleted the content!\n"
          ]
        }
      ]
    },
    {
      "cell_type": "code",
      "source": [
        "#close files\n",
        "#good practice to always close the file when you are done with it\n",
        "f = open('coe.txt','r')\n",
        "print(f.readline())\n",
        "f.close()"
      ],
      "metadata": {
        "colab": {
          "base_uri": "https://localhost:8080/"
        },
        "id": "XtdZTCq4jK23",
        "outputId": "de7a4b9b-b436-4f71-ccf7-a3606375d7ad"
      },
      "execution_count": 6,
      "outputs": [
        {
          "output_type": "stream",
          "name": "stdout",
          "text": [
            "Woops! I have deleted the content!\n"
          ]
        }
      ]
    },
    {
      "cell_type": "code",
      "source": [
        "#write to an existing file\n",
        "f = open('coe.txt','a')\n",
        "f.write('Devops & cloud')\n",
        "f.close()"
      ],
      "metadata": {
        "id": "sqo0wzpajc_u"
      },
      "execution_count": 7,
      "outputs": []
    },
    {
      "cell_type": "code",
      "source": [
        "#open and read the file after the appending\n",
        "f = open('coe.txt','r')\n",
        "print(f.read())\n",
        "f.close()"
      ],
      "metadata": {
        "colab": {
          "base_uri": "https://localhost:8080/"
        },
        "id": "hQ3Zs-kXjyKV",
        "outputId": "3365e88f-ccf0-43ee-8b6a-a9850725fcac"
      },
      "execution_count": 8,
      "outputs": [
        {
          "output_type": "stream",
          "name": "stdout",
          "text": [
            "Woops! I have deleted the content!Devops & cloud\n"
          ]
        }
      ]
    },
    {
      "cell_type": "code",
      "source": [
        "f = open(\"coe.txt\", \"w\")\n",
        "f.write(\"Woops! I have deleted the content!\")\n",
        "f.close()\n",
        "\n",
        "#open and read the file after the appending:\n",
        "f = open(\"coe.txt\", \"r\")\n",
        "print(f.read())"
      ],
      "metadata": {
        "colab": {
          "base_uri": "https://localhost:8080/"
        },
        "id": "hC64gqBRj9Ji",
        "outputId": "a3535b36-a2f3-4a7a-9e97-e02b4de7a9b8"
      },
      "execution_count": 9,
      "outputs": [
        {
          "output_type": "stream",
          "name": "stdout",
          "text": [
            "Woops! I have deleted the content!\n"
          ]
        }
      ]
    },
    {
      "cell_type": "code",
      "source": [
        "#create the empty file\n",
        "f = open(\"Afile.txt\", \"x\")"
      ],
      "metadata": {
        "id": "XxLSCykYkPzJ"
      },
      "execution_count": 12,
      "outputs": []
    },
    {
      "cell_type": "code",
      "source": [
        "f = open('Afile.txt','a')\n",
        "f.write('Sanjivani college of engineering')\n",
        "f.close()"
      ],
      "metadata": {
        "id": "9RbFxT72khrE"
      },
      "execution_count": 13,
      "outputs": []
    },
    {
      "cell_type": "code",
      "source": [
        "f = open('Afile.txt','r')\n",
        "print(f.read())\n",
        "f.close()"
      ],
      "metadata": {
        "colab": {
          "base_uri": "https://localhost:8080/"
        },
        "id": "rF5ARa0hk3f_",
        "outputId": "531b0088-1c63-4ced-82c9-8d37b51447f0"
      },
      "execution_count": 14,
      "outputs": [
        {
          "output_type": "stream",
          "name": "stdout",
          "text": [
            "Sanjivani college of engineering\n"
          ]
        }
      ]
    },
    {
      "cell_type": "code",
      "source": [
        "#create a new file\n",
        "f = open(\"file1.txt\", \"w\")"
      ],
      "metadata": {
        "id": "FYHM3_NLlBq4"
      },
      "execution_count": 15,
      "outputs": []
    },
    {
      "cell_type": "code",
      "source": [
        "#create a new file\n",
        "f = open(\"file2.txt\", \"w\")"
      ],
      "metadata": {
        "id": "q4kQWAEslX1h"
      },
      "execution_count": 16,
      "outputs": []
    },
    {
      "cell_type": "code",
      "source": [
        "#Delete a File\n",
        "#To delete a file, you must import the OS module, and run its os.remove() function\n",
        "import os\n",
        "os.remove(\"file2.txt\")"
      ],
      "metadata": {
        "id": "0wTHEsxylfui"
      },
      "execution_count": 17,
      "outputs": []
    },
    {
      "cell_type": "code",
      "source": [
        "#create a new file\n",
        "f = open(\"file3.txt\", \"w\")"
      ],
      "metadata": {
        "id": "uWGDiAd9lpTf"
      },
      "execution_count": 18,
      "outputs": []
    },
    {
      "cell_type": "code",
      "source": [
        "import os\n",
        "if os.path.exists(\"file4.txt\"):\n",
        "  os.remove(\"file4.txt\")\n",
        "else:\n",
        "  print(\"The file does not exist\")"
      ],
      "metadata": {
        "colab": {
          "base_uri": "https://localhost:8080/"
        },
        "id": "K9c8kEeNlx8W",
        "outputId": "174bcb07-9ac1-4904-c920-e08a0091ecfa"
      },
      "execution_count": 19,
      "outputs": [
        {
          "output_type": "stream",
          "name": "stdout",
          "text": [
            "The file does not exist\n"
          ]
        }
      ]
    },
    {
      "cell_type": "code",
      "source": [
        "import os\n",
        "if os.path.exists(\"file3.txt\"):\n",
        "  os.remove(\"file3.txt\")\n",
        "else:\n",
        "  print(\"The file does not exist\")"
      ],
      "metadata": {
        "id": "5pUCcY0ql4IV"
      },
      "execution_count": 20,
      "outputs": []
    }
  ]
}