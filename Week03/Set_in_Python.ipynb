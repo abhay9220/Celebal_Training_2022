{
  "nbformat": 4,
  "nbformat_minor": 0,
  "metadata": {
    "colab": {
      "name": "Set_in_Python.ipynb",
      "provenance": []
    },
    "kernelspec": {
      "name": "python3",
      "display_name": "Python 3"
    },
    "language_info": {
      "name": "python"
    }
  },
  "cells": [
    {
      "cell_type": "markdown",
      "source": [
        "**Set**"
      ],
      "metadata": {
        "id": "WloivWar9BUt"
      }
    },
    {
      "cell_type": "markdown",
      "source": [
        "Set items are unordered, unchangeable, unindexed and do not allow duplicate values"
      ],
      "metadata": {
        "id": "w-d0RUYe9Cyk"
      }
    },
    {
      "cell_type": "code",
      "source": [
        "this_set = {'apple','mango','pineapple','cherry'}\n",
        "print(this_set)"
      ],
      "metadata": {
        "id": "Q5kGDDQR9LkN"
      },
      "execution_count": null,
      "outputs": []
    },
    {
      "cell_type": "code",
      "source": [
        "#lenght\n",
        "\n",
        "print(len(this_set))"
      ],
      "metadata": {
        "id": "QyyPvgx29UO-"
      },
      "execution_count": null,
      "outputs": []
    },
    {
      "cell_type": "code",
      "source": [
        "#type\n",
        "\n",
        "print(type(this_set))"
      ],
      "metadata": {
        "id": "Yv4ZfhCO9Yj-"
      },
      "execution_count": null,
      "outputs": []
    },
    {
      "cell_type": "code",
      "source": [
        "#set() constructor\n",
        "thisset = set((\"apple\", \"banana\", \"cherry\")) \n",
        "print(thisset)"
      ],
      "metadata": {
        "id": "tRzBCYZT9cSW"
      },
      "execution_count": null,
      "outputs": []
    },
    {
      "cell_type": "code",
      "source": [
        "#access items\n",
        "#You cannot access items in a set by referring to an index or a key.\n",
        "\n",
        "thisset = {\"apple\", \"banana\", \"cherry\"}\n",
        "\n",
        "for x in thisset:\n",
        "  print(x)"
      ],
      "metadata": {
        "id": "BTE9lolM9qB2"
      },
      "execution_count": null,
      "outputs": []
    },
    {
      "cell_type": "code",
      "source": [
        "#add items\n",
        "thisset = {\"apple\", \"banana\", \"cherry\"}\n",
        "\n",
        "thisset.add(\"orange\")\n",
        "\n",
        "print(thisset)"
      ],
      "metadata": {
        "id": "Xbpi-ZqZ-EOM"
      },
      "execution_count": null,
      "outputs": []
    },
    {
      "cell_type": "code",
      "source": [
        "# add sets\n",
        "\n",
        "a = {'apple','banana'}\n",
        "b = {'mango','cherry'}\n",
        "\n",
        "a.update(b)\n",
        "print(a)"
      ],
      "metadata": {
        "id": "GIrngnnk-Pu9"
      },
      "execution_count": null,
      "outputs": []
    },
    {
      "cell_type": "code",
      "source": [
        "#remove item\n",
        "a = {'apple','banana','cherry'}\n",
        "a.remove('apple')\n",
        "print(a)"
      ],
      "metadata": {
        "id": "Lyx093sI-lC7"
      },
      "execution_count": null,
      "outputs": []
    },
    {
      "cell_type": "code",
      "source": [
        "#discard\n",
        "a = {'apple','banana','cherry'}\n",
        "a.discard('cherry')\n",
        "print(a)"
      ],
      "metadata": {
        "id": "uO25aFB0-xIk"
      },
      "execution_count": null,
      "outputs": []
    },
    {
      "cell_type": "code",
      "source": [
        "#pop\n",
        "a = {'apple','banana','cherry'}\n",
        "#You can also use the pop() method to remove an item, but this method will remove the last item. \n",
        "#Remember that sets are unordered, so you will not know what item that gets removed.\n",
        "\n",
        "x = a.pop()\n",
        "\n",
        "print(x)\n",
        "\n",
        "print(a)"
      ],
      "metadata": {
        "id": "May6ldLo-6bQ"
      },
      "execution_count": null,
      "outputs": []
    },
    {
      "cell_type": "code",
      "source": [
        "#loop items\n",
        "thisset = {\"apple\", \"banana\", \"cherry\"}\n",
        "\n",
        "for x in thisset:\n",
        "  print(x)"
      ],
      "metadata": {
        "id": "yrhJQjA7_MJR"
      },
      "execution_count": null,
      "outputs": []
    },
    {
      "cell_type": "code",
      "source": [
        "#join set\n",
        "#using union\n",
        "set1 = {\"a\", \"b\" , \"c\"}\n",
        "set2 = {1, 2, 3}\n",
        "\n",
        "set3 = set1.union(set2)\n",
        "print(set3)"
      ],
      "metadata": {
        "id": "Kb6twapt_Svs"
      },
      "execution_count": null,
      "outputs": []
    },
    {
      "cell_type": "code",
      "source": [
        "#using update\n",
        "set1.update(set2)\n",
        "print(set1)"
      ],
      "metadata": {
        "id": "JLMVTxHeAc_u"
      },
      "execution_count": null,
      "outputs": []
    },
    {
      "cell_type": "markdown",
      "source": [
        "**Method**\n",
        "\n",
        "\n",
        "*   add()\t- Adds an element to the set\n",
        "*   clear()\t- Removes all the elements from the set\n",
        "\n",
        "*   copy()\t- Returns a copy of the set\n",
        "\n",
        "*   pop()\t- Removes an element from the set\n",
        "\n",
        "*   union()\t- Return a set containing the union of sets\n",
        "*   update()\t- Update the set with the union of this set and others\n",
        "\n",
        "\n",
        "*   remove()\t- Removes the specified element\n",
        "\n",
        "\n",
        "*   pop()\t- Removes an element from the set\n",
        "\n",
        "\n",
        "\n"
      ],
      "metadata": {
        "id": "YK6ps2A7_wTb"
      }
    }
  ]
}