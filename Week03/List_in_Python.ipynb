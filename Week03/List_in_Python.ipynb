{
  "nbformat": 4,
  "nbformat_minor": 0,
  "metadata": {
    "colab": {
      "name": "List_in_Python.ipynb",
      "provenance": []
    },
    "kernelspec": {
      "name": "python3",
      "display_name": "Python 3"
    },
    "language_info": {
      "name": "python"
    }
  },
  "cells": [
    {
      "cell_type": "markdown",
      "source": [
        "**List**"
      ],
      "metadata": {
        "id": "wcTaw2L-xYTj"
      }
    },
    {
      "cell_type": "markdown",
      "source": [
        "List items are ordered, changeable, and alow duplicate values."
      ],
      "metadata": {
        "id": "fO8SIKCwxaGL"
      }
    },
    {
      "cell_type": "code",
      "source": [
        "this_list = [\"apple\",\"cherry\",\"pineapple\",\"mango\",\"banana\",\"apple\"]\n",
        "print(this_list)"
      ],
      "metadata": {
        "colab": {
          "base_uri": "https://localhost:8080/"
        },
        "id": "7a5LstbCxtR5",
        "outputId": "86e72f34-2b0d-4a1b-f916-a24efb9b0361"
      },
      "execution_count": null,
      "outputs": [
        {
          "output_type": "stream",
          "name": "stdout",
          "text": [
            "['apple', 'cherry', 'pineapple', 'mango', 'banana', 'apple']\n"
          ]
        }
      ]
    },
    {
      "cell_type": "code",
      "source": [
        "#lenght\n",
        "\n",
        "print(len(this_list))"
      ],
      "metadata": {
        "colab": {
          "base_uri": "https://localhost:8080/"
        },
        "id": "jKWVRP-jx_z8",
        "outputId": "3c76deb9-f963-453d-964d-d3f251201786"
      },
      "execution_count": null,
      "outputs": [
        {
          "output_type": "stream",
          "name": "stdout",
          "text": [
            "6\n"
          ]
        }
      ]
    },
    {
      "cell_type": "code",
      "source": [
        "#data type\n",
        "\n",
        "print(type(this_list))"
      ],
      "metadata": {
        "colab": {
          "base_uri": "https://localhost:8080/"
        },
        "id": "g3e_yjmgyLMe",
        "outputId": "0dd78839-9f53-48b8-f984-dd542e163683"
      },
      "execution_count": null,
      "outputs": [
        {
          "output_type": "stream",
          "name": "stdout",
          "text": [
            "<class 'list'>\n"
          ]
        }
      ]
    },
    {
      "cell_type": "code",
      "source": [
        "#list constructor\n",
        "\n",
        "this_list = list(('apple','banana','mango'))\n",
        "print(this_list)"
      ],
      "metadata": {
        "colab": {
          "base_uri": "https://localhost:8080/"
        },
        "id": "g63pj61fyR39",
        "outputId": "28de90bc-c34b-42a8-fd24-54df1fdbbabc"
      },
      "execution_count": null,
      "outputs": [
        {
          "output_type": "stream",
          "name": "stdout",
          "text": [
            "['apple', 'banana', 'mango']\n"
          ]
        }
      ]
    },
    {
      "cell_type": "code",
      "source": [
        "this_list = [\"apple\",\"cherry\",\"pineapple\",\"mango\",\"banana\",\"apple\"]\n",
        "\n",
        "#access items\n",
        "print(this_list[2])\n",
        "\n",
        "#negative indexing\n",
        "print(this_list[-2])\n",
        "\n",
        "#range of indexes\n",
        "print(this_list[2:6])\n",
        "print(this_list[:4])\n",
        "print(this_list[1:])\n",
        "print(this_list[-1:-5])"
      ],
      "metadata": {
        "colab": {
          "base_uri": "https://localhost:8080/"
        },
        "id": "CppcxgF0yfpD",
        "outputId": "ca070024-2945-44a6-fffa-e131ab16c64c"
      },
      "execution_count": null,
      "outputs": [
        {
          "output_type": "stream",
          "name": "stdout",
          "text": [
            "pineapple\n",
            "banana\n",
            "['pineapple', 'mango', 'banana', 'apple']\n",
            "['apple', 'cherry', 'pineapple', 'mango']\n",
            "['cherry', 'pineapple', 'mango', 'banana', 'apple']\n",
            "[]\n"
          ]
        }
      ]
    },
    {
      "cell_type": "code",
      "source": [
        "#check if item exists\n",
        "if \"apple\" in this_list:\n",
        "  print(\"present\")"
      ],
      "metadata": {
        "colab": {
          "base_uri": "https://localhost:8080/"
        },
        "id": "MWihxy4ezXbn",
        "outputId": "1d7c027d-7062-47a4-9c74-49654ed98422"
      },
      "execution_count": null,
      "outputs": [
        {
          "output_type": "stream",
          "name": "stdout",
          "text": [
            "present\n"
          ]
        }
      ]
    },
    {
      "cell_type": "code",
      "source": [
        "#change list value\n",
        "\n",
        "this_list = ['apple','banana','cherry','mango']\n",
        "this_list[1] = 'pineapple'\n",
        "print(this_list)"
      ],
      "metadata": {
        "colab": {
          "base_uri": "https://localhost:8080/"
        },
        "id": "JaVgdaN0zzpf",
        "outputId": "9c73670d-b73b-4847-e6eb-acc77401208d"
      },
      "execution_count": null,
      "outputs": [
        {
          "output_type": "stream",
          "name": "stdout",
          "text": [
            "['apple', 'pineapple', 'cherry', 'mango']\n"
          ]
        }
      ]
    },
    {
      "cell_type": "code",
      "source": [
        "#change a range of item value\n",
        "\n",
        "this_list = ['apple','banana','cherry','orange','kiwi','mango']\n",
        "this_list[1:3] = ['black','red']\n",
        "print(this_list)"
      ],
      "metadata": {
        "colab": {
          "base_uri": "https://localhost:8080/"
        },
        "id": "fqvxmKYP0KOV",
        "outputId": "abce2add-51d5-4064-80d0-4bc987d7d2e0"
      },
      "execution_count": null,
      "outputs": [
        {
          "output_type": "stream",
          "name": "stdout",
          "text": [
            "['apple', 'black', 'red', 'orange', 'kiwi', 'mango']\n"
          ]
        }
      ]
    },
    {
      "cell_type": "code",
      "source": [
        "#insert item\n",
        "\n",
        "this_list = ['banana','mango','cherry']\n",
        "this_list.insert(1,'pineapple')\n",
        "print(this_list)"
      ],
      "metadata": {
        "colab": {
          "base_uri": "https://localhost:8080/"
        },
        "id": "3Q9tADpd0mj7",
        "outputId": "b3d88857-0ee2-4294-fcf2-e2a7579f14af"
      },
      "execution_count": null,
      "outputs": [
        {
          "output_type": "stream",
          "name": "stdout",
          "text": [
            "['banana', 'pineapple', 'mango', 'cherry']\n"
          ]
        }
      ]
    },
    {
      "cell_type": "code",
      "source": [
        "#append items\n",
        "this_list = ['apple','cherry']\n",
        "this_list.append('banana')\n",
        "print(this_list)"
      ],
      "metadata": {
        "colab": {
          "base_uri": "https://localhost:8080/"
        },
        "id": "T1-supxB05vM",
        "outputId": "1f3861f3-d77d-46fd-acdb-e29fe918e5b4"
      },
      "execution_count": null,
      "outputs": [
        {
          "output_type": "stream",
          "name": "stdout",
          "text": [
            "['apple', 'cherry', 'banana']\n"
          ]
        }
      ]
    },
    {
      "cell_type": "code",
      "source": [
        "#extend list\n",
        "this_list = ['apple','banana']\n",
        "a = ['mango','pineapple']\n",
        "\n",
        "this_list.extend(a)\n",
        "print(this_list)"
      ],
      "metadata": {
        "colab": {
          "base_uri": "https://localhost:8080/"
        },
        "id": "1bXXEqI_1RZ8",
        "outputId": "242dbaa2-3b41-4318-cdee-cf06b81ea817"
      },
      "execution_count": null,
      "outputs": [
        {
          "output_type": "stream",
          "name": "stdout",
          "text": [
            "['apple', 'banana', 'mango', 'pineapple']\n"
          ]
        }
      ]
    },
    {
      "cell_type": "code",
      "source": [
        "#remove specified item\n",
        "this_list = ['apple','banana','mango','pineapple']\n",
        "this_list.remove('banana')\n",
        "print(this_list)"
      ],
      "metadata": {
        "colab": {
          "base_uri": "https://localhost:8080/"
        },
        "id": "qRb72kCG1v-a",
        "outputId": "fa8cf903-7094-4c58-9eff-c582f00ac411"
      },
      "execution_count": null,
      "outputs": [
        {
          "output_type": "stream",
          "name": "stdout",
          "text": [
            "['apple', 'mango', 'pineapple']\n"
          ]
        }
      ]
    },
    {
      "cell_type": "code",
      "source": [
        "#remove specified index\n",
        "this_list = ['apple','banana','mango','pineapple']\n",
        "this_list.pop(0)\n",
        "print(this_list)"
      ],
      "metadata": {
        "colab": {
          "base_uri": "https://localhost:8080/"
        },
        "id": "SWtzrGML2Kkj",
        "outputId": "83947ad4-5f90-4639-b4a8-2f25db1ec792"
      },
      "execution_count": null,
      "outputs": [
        {
          "output_type": "stream",
          "name": "stdout",
          "text": [
            "['banana', 'mango', 'pineapple']\n"
          ]
        }
      ]
    },
    {
      "cell_type": "code",
      "source": [
        "#loop through a list\n",
        "this_list = ['apple','banana','mango','pineapple']\n",
        "for x in this_list:\n",
        "  print(x)"
      ],
      "metadata": {
        "colab": {
          "base_uri": "https://localhost:8080/"
        },
        "id": "U3MJZCJh2Vkd",
        "outputId": "82d8ca80-50c6-41b4-bef3-f5ba40d0691e"
      },
      "execution_count": null,
      "outputs": [
        {
          "output_type": "stream",
          "name": "stdout",
          "text": [
            "apple\n",
            "banana\n",
            "mango\n",
            "pineapple\n"
          ]
        }
      ]
    },
    {
      "cell_type": "code",
      "source": [
        "#using while loop \n",
        "this_list = ['apple','banana','mango','pineapple']\n",
        "i = 0\n",
        "while i < len(this_list):\n",
        "  print(this_list[i])\n",
        "  i = i+1"
      ],
      "metadata": {
        "colab": {
          "base_uri": "https://localhost:8080/"
        },
        "id": "wsqioCse2iTV",
        "outputId": "7beeabbc-6651-4768-85f0-c4179ea72008"
      },
      "execution_count": null,
      "outputs": [
        {
          "output_type": "stream",
          "name": "stdout",
          "text": [
            "apple\n",
            "banana\n",
            "mango\n",
            "pineapple\n"
          ]
        }
      ]
    },
    {
      "cell_type": "code",
      "source": [
        "#sort list\n",
        "thislist = [\"orange\", \"mango\", \"kiwi\", \"pineapple\", \"banana\"]\n",
        "thislist.sort()\n",
        "print(thislist)"
      ],
      "metadata": {
        "colab": {
          "base_uri": "https://localhost:8080/"
        },
        "id": "B18A_Bfj2zaD",
        "outputId": "d9f0ee2e-c4f0-41a6-a494-059749cab09d"
      },
      "execution_count": null,
      "outputs": [
        {
          "output_type": "stream",
          "name": "stdout",
          "text": [
            "['banana', 'kiwi', 'mango', 'orange', 'pineapple']\n"
          ]
        }
      ]
    },
    {
      "cell_type": "code",
      "source": [
        "#sort descending order\n",
        "thislist.sort(reverse=True)\n",
        "print(thislist)"
      ],
      "metadata": {
        "colab": {
          "base_uri": "https://localhost:8080/"
        },
        "id": "piyxCDwn3DF6",
        "outputId": "c10a73e3-5553-44d4-c43b-9047eadb6505"
      },
      "execution_count": null,
      "outputs": [
        {
          "output_type": "stream",
          "name": "stdout",
          "text": [
            "['pineapple', 'orange', 'mango', 'kiwi', 'banana']\n"
          ]
        }
      ]
    },
    {
      "cell_type": "code",
      "source": [
        "#copy list\n",
        "thislist = [\"apple\", \"banana\", \"cherry\"]\n",
        "mylist = thislist.copy()\n",
        "print(mylist)"
      ],
      "metadata": {
        "colab": {
          "base_uri": "https://localhost:8080/"
        },
        "id": "XR3v58lx3Npb",
        "outputId": "67887637-47ab-4f0c-b636-f65cd80eef78"
      },
      "execution_count": null,
      "outputs": [
        {
          "output_type": "stream",
          "name": "stdout",
          "text": [
            "['apple', 'banana', 'cherry']\n"
          ]
        }
      ]
    },
    {
      "cell_type": "code",
      "source": [
        "#join list\n",
        "list1 = [\"a\", \"b\", \"c\"]\n",
        "list2 = [1, 2, 3]\n",
        "\n",
        "list3 = list1 + list2\n",
        "print(list3)"
      ],
      "metadata": {
        "colab": {
          "base_uri": "https://localhost:8080/"
        },
        "id": "hoBPfc2H3Wrb",
        "outputId": "4d19eb32-6615-40b5-d65a-a9f8cb19c633"
      },
      "execution_count": null,
      "outputs": [
        {
          "output_type": "stream",
          "name": "stdout",
          "text": [
            "['a', 'b', 'c', 1, 2, 3]\n"
          ]
        }
      ]
    },
    {
      "cell_type": "markdown",
      "source": [
        "**Methods**"
      ],
      "metadata": {
        "id": "7YVAvKSj4rDK"
      }
    },
    {
      "cell_type": "markdown",
      "source": [
        "\n",
        "\n",
        "1.   append() - Adds an element at the end of the list\n",
        "\n",
        "2.   clear() - removes all the element from the list\n",
        "\n",
        "3.   copy() - returns a copy of the list\n",
        "\n",
        "4.   count() - returns the numbers of elements with the specified value\n",
        "\n",
        "5.   extend() - Add the elements of a list (or any iterable), to the end of the current list\n",
        "6.   index()\t- Returns the index of the first element with the specified value\n",
        "\n",
        "7.   insert()\t- Adds an element at the specified position\n",
        "8.   pop()\t- Removes the element at the specified position\n",
        "\n",
        "\n",
        "9.   remove()\t- Removes the item with the specified value\n",
        "\n",
        "\n",
        "10.   reverse()\t- Reverses the order of the list\n",
        "\n",
        "\n",
        "11.   sort()\t- Sorts the list\n",
        "\n",
        "\n",
        "\n",
        "\n",
        "\n",
        "\n",
        "\n",
        "\n",
        "\n"
      ],
      "metadata": {
        "id": "hFXw0MjB3hwa"
      }
    }
  ]
}