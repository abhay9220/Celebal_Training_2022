{
  "nbformat": 4,
  "nbformat_minor": 0,
  "metadata": {
    "colab": {
      "name": "Dictionary.ipynb",
      "provenance": []
    },
    "kernelspec": {
      "name": "python3",
      "display_name": "Python 3"
    },
    "language_info": {
      "name": "python"
    }
  },
  "cells": [
    {
      "cell_type": "markdown",
      "source": [
        "**Dictionary**"
      ],
      "metadata": {
        "id": "XjTGrO6tfJEm"
      }
    },
    {
      "cell_type": "markdown",
      "source": [
        "Dictionary items are ordered, changeable, and does not allow duplicates"
      ],
      "metadata": {
        "id": "91Bvvoz-fLwL"
      }
    },
    {
      "cell_type": "markdown",
      "source": [
        "Dictionary are used to store data values in key:value pairs"
      ],
      "metadata": {
        "id": "io95pMSefbZ8"
      }
    },
    {
      "cell_type": "markdown",
      "source": [
        "Dictionary cannot have two items with the same key"
      ],
      "metadata": {
        "id": "W7dOBoLafp6C"
      }
    },
    {
      "cell_type": "code",
      "source": [
        "dict1 = {\n",
        "    'name':'Abhay',\n",
        "    'class':'TY',\n",
        "    'Div':'B',\n",
        "    'Roll_No':130\n",
        "\n",
        "}\n",
        "\n",
        "print(dict1)"
      ],
      "metadata": {
        "id": "xZy7nqNqfwNc"
      },
      "execution_count": null,
      "outputs": []
    },
    {
      "cell_type": "code",
      "source": [
        "#dict items\n",
        "\n",
        "print(dict1['name'])"
      ],
      "metadata": {
        "id": "uz7DiAqtgF8W"
      },
      "execution_count": null,
      "outputs": []
    },
    {
      "cell_type": "code",
      "source": [
        "#dict lenght\n",
        "\n",
        "print(len(dict1))"
      ],
      "metadata": {
        "id": "ydmKSS0ggNDN"
      },
      "execution_count": null,
      "outputs": []
    },
    {
      "cell_type": "code",
      "source": [
        "#dict type\n",
        "\n",
        "print(type(dict1))"
      ],
      "metadata": {
        "id": "OjMnQdRUgUh7"
      },
      "execution_count": null,
      "outputs": []
    },
    {
      "cell_type": "code",
      "source": [
        "dict2 = {\n",
        "    'name': 'Amruta',\n",
        "    'clg':'sanjivani',\n",
        "    'div':'A',\n",
        "    'Roll_No': 21,\n",
        "    'dept': 'comp'\n",
        "\n",
        "}\n",
        "print(dict2)"
      ],
      "metadata": {
        "id": "5rqC2sNYgZeu"
      },
      "execution_count": null,
      "outputs": []
    },
    {
      "cell_type": "code",
      "source": [
        "# accessing items\n",
        "print(dict2['dept'])\n",
        "\n",
        "#using get\n",
        "print(dict2.get('name'))\n",
        "\n",
        "#get keys\n",
        "print(dict2.keys())\n",
        "\n",
        "#get value\n",
        "print(dict2.values())\n",
        "\n",
        "#get items\n",
        "print(dict2.items())\n",
        "\n",
        "\n",
        "#check if key exists\n",
        "if 'name' in dict2:\n",
        "  print('present')"
      ],
      "metadata": {
        "id": "cUsTmFB5g2rW"
      },
      "execution_count": null,
      "outputs": []
    },
    {
      "cell_type": "code",
      "source": [
        "dict3 = {\n",
        "    'name': 'Rohit',\n",
        "    'clg':'sanjivani',\n",
        "    'div':'A',\n",
        "    'Roll_No': 21,\n",
        "    'dept': 'comp'\n",
        "\n",
        "}\n",
        "print(dict3)"
      ],
      "metadata": {
        "id": "-wvGn7gshk1P"
      },
      "execution_count": null,
      "outputs": []
    },
    {
      "cell_type": "code",
      "source": [
        "#change values\n",
        "dict3['Roll_No'] = 34\n",
        "print(dict3)"
      ],
      "metadata": {
        "id": "JMh-cY8eh2f3"
      },
      "execution_count": null,
      "outputs": []
    },
    {
      "cell_type": "code",
      "source": [
        "#update dict\n",
        "dict3.update({'name':'siddhant'})\n",
        "print(dict3)"
      ],
      "metadata": {
        "id": "eIMYXm8biACF"
      },
      "execution_count": null,
      "outputs": []
    },
    {
      "cell_type": "code",
      "source": [
        "# adding items\n",
        "dict3['hobby'] = 'coding'\n",
        "dict3['sub'] = 'cyber'\n",
        "print(dict3)"
      ],
      "metadata": {
        "id": "S3P9eikViLVL"
      },
      "execution_count": null,
      "outputs": []
    },
    {
      "cell_type": "code",
      "source": [
        "#Removing items\n",
        "dict3.pop('sub')\n",
        "print(dict3)"
      ],
      "metadata": {
        "id": "RoaLKatniYty"
      },
      "execution_count": null,
      "outputs": []
    },
    {
      "cell_type": "code",
      "source": [
        "#popitem - remove last inserted item\n",
        "dict3.popitem()\n",
        "print(dict3)"
      ],
      "metadata": {
        "id": "4MlUlbyHivkX"
      },
      "execution_count": null,
      "outputs": []
    },
    {
      "cell_type": "code",
      "source": [
        "#loop through dict\n",
        "for x in dict3:\n",
        "  print(x)"
      ],
      "metadata": {
        "id": "VcSrdj7YjBjK"
      },
      "execution_count": null,
      "outputs": []
    },
    {
      "cell_type": "code",
      "source": [
        "for x in dict3.keys():\n",
        "  print(x)"
      ],
      "metadata": {
        "id": "B6PtAJUijJ-O"
      },
      "execution_count": null,
      "outputs": []
    },
    {
      "cell_type": "code",
      "source": [
        "for x in dict3.values():\n",
        "  print(x)"
      ],
      "metadata": {
        "id": "ztLB6iRhjPP9"
      },
      "execution_count": null,
      "outputs": []
    },
    {
      "cell_type": "code",
      "source": [
        "#copy dict\n",
        "\n",
        "dict4 = dict3.copy()\n",
        "print(dict4)"
      ],
      "metadata": {
        "id": "LvPtRNiwjRbm"
      },
      "execution_count": null,
      "outputs": []
    },
    {
      "cell_type": "code",
      "source": [
        "#nested dict\n",
        "dict_std = {\n",
        "    'first':{\n",
        "        'name':'Abhay',\n",
        "        'dept':'Comp'\n",
        "    },\n",
        "    'second':{\n",
        "        'name':'Siddhant',\n",
        "        'dept':'Comp'\n",
        "    },\n",
        "    'third':{\n",
        "        'name':'Bhavesh',\n",
        "        'dept': 'Mech'\n",
        "    }\n",
        "}\n",
        "print(dict_std)"
      ],
      "metadata": {
        "id": "1mH2Q44ajcFE"
      },
      "execution_count": null,
      "outputs": []
    },
    {
      "cell_type": "markdown",
      "source": [
        "**Method**\n",
        "\n",
        "*   clear()\t- Removes all the elements from the dictionary\n",
        "\n",
        "*   copy()\t- Returns a copy of the dictionary\n",
        "\n",
        "*   get()\t- Returns the value of the specified key\n",
        "\n",
        "*   items()\t - Returns a list containing a tuple for each key value pair\n",
        "*   keys()\t- Returns a list containing the dictionary's keys\n",
        "\n",
        "\n",
        "*   pop()\t- Removes the element with the specified key\n",
        "\n",
        "\n",
        "*   popitem()\t- Removes the last inserted key-value pair\n",
        "\n",
        "\n",
        "*   update()\t- Updates the dictionary \n",
        "\n",
        "with the specified key-value pairs\n",
        "\n",
        "\n",
        "*   values()\t- Returns a list of all the values in the dictionary\n",
        "\n",
        "\n",
        "\n",
        "\n"
      ],
      "metadata": {
        "id": "-sJzfe_hks8C"
      }
    }
  ]
}