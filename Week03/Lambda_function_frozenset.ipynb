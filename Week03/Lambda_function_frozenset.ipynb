{
  "nbformat": 4,
  "nbformat_minor": 0,
  "metadata": {
    "colab": {
      "name": "Lambda-function-frozenset.ipynb",
      "provenance": []
    },
    "kernelspec": {
      "name": "python3",
      "display_name": "Python 3"
    },
    "language_info": {
      "name": "python"
    }
  },
  "cells": [
    {
      "cell_type": "markdown",
      "source": [
        "**Function**"
      ],
      "metadata": {
        "id": "siENqAPql81n"
      }
    },
    {
      "cell_type": "markdown",
      "source": [
        "\n",
        "\n",
        "*   A function is a block of code which only runs when it is called\n",
        "\n",
        "*   You can pass data, called as parameters, into a function\n",
        "*   A function can return data as a result\n",
        "\n",
        "\n",
        "\n",
        "\n"
      ],
      "metadata": {
        "id": "ATgadH9emCaU"
      }
    },
    {
      "cell_type": "code",
      "source": [
        "#creating a function\n",
        "def coe():\n",
        "  print(\"Sanjivani COE\")\n",
        "\n",
        "#calling a function\n",
        "coe()"
      ],
      "metadata": {
        "colab": {
          "base_uri": "https://localhost:8080/"
        },
        "id": "2GzLKVOAmgp9",
        "outputId": "81a8aafe-9be9-4fed-bec7-595c7063c749"
      },
      "execution_count": null,
      "outputs": [
        {
          "output_type": "stream",
          "name": "stdout",
          "text": [
            "Sanjivani COE\n"
          ]
        }
      ]
    },
    {
      "cell_type": "code",
      "source": [
        "#argument\n",
        "def data(name):\n",
        "  print(name +\" \"+ 'Div')\n",
        "\n",
        "data('Comp')"
      ],
      "metadata": {
        "colab": {
          "base_uri": "https://localhost:8080/"
        },
        "id": "1M_-a8Jzmti5",
        "outputId": "6fcb82bb-91cc-406e-fe5e-6d08d59fa1a3"
      },
      "execution_count": null,
      "outputs": [
        {
          "output_type": "stream",
          "name": "stdout",
          "text": [
            "Comp Div\n"
          ]
        }
      ]
    },
    {
      "cell_type": "code",
      "source": [
        "def my_function(food):\n",
        "  for x in food:\n",
        "    print(x)\n",
        "\n",
        "fruits = [\"apple\", \"banana\", \"cherry\"]\n",
        "\n",
        "my_function(fruits)"
      ],
      "metadata": {
        "colab": {
          "base_uri": "https://localhost:8080/"
        },
        "id": "XJTY9hgNnF5M",
        "outputId": "27ef9fd5-07c7-4f59-c665-596c5e4db31b"
      },
      "execution_count": null,
      "outputs": [
        {
          "output_type": "stream",
          "name": "stdout",
          "text": [
            "apple\n",
            "banana\n",
            "cherry\n"
          ]
        }
      ]
    },
    {
      "cell_type": "markdown",
      "source": [
        "**Lambda**"
      ],
      "metadata": {
        "id": "HJdlv-sxnXHd"
      }
    },
    {
      "cell_type": "markdown",
      "source": [
        "\n",
        "\n",
        "*   A lambda function is a small anonymous function\n",
        "*   A lambda function can take any number of arguments, but can only have one expression\n",
        "\n"
      ],
      "metadata": {
        "id": "SiZJsw-Rnbhs"
      }
    },
    {
      "cell_type": "code",
      "source": [
        "x = lambda a : a + 20\n",
        "print(x(3))"
      ],
      "metadata": {
        "colab": {
          "base_uri": "https://localhost:8080/"
        },
        "id": "-i4yMXW8ntIq",
        "outputId": "7f476cef-0125-445d-ba3c-cddfd65dfb0c"
      },
      "execution_count": null,
      "outputs": [
        {
          "output_type": "stream",
          "name": "stdout",
          "text": [
            "23\n"
          ]
        }
      ]
    },
    {
      "cell_type": "code",
      "source": [
        "a = lambda x,y : x*y\n",
        "print(a(2,4))"
      ],
      "metadata": {
        "colab": {
          "base_uri": "https://localhost:8080/"
        },
        "id": "CCgHOBkzn1VQ",
        "outputId": "4dd6ae11-6833-4009-bb76-80fddeec4888"
      },
      "execution_count": null,
      "outputs": [
        {
          "output_type": "stream",
          "name": "stdout",
          "text": [
            "8\n"
          ]
        }
      ]
    },
    {
      "cell_type": "code",
      "source": [
        "def coe(n):\n",
        "  return lambda a : a*n\n",
        "\n",
        "x = coe(2)\n",
        "print(x(4))"
      ],
      "metadata": {
        "colab": {
          "base_uri": "https://localhost:8080/"
        },
        "id": "JggUEGbZn9V7",
        "outputId": "3f20f6d8-fda8-4594-ebeb-1fb7ae7c41a4"
      },
      "execution_count": null,
      "outputs": [
        {
          "output_type": "stream",
          "name": "stdout",
          "text": [
            "8\n"
          ]
        }
      ]
    },
    {
      "cell_type": "markdown",
      "source": [
        "**frozeset()**"
      ],
      "metadata": {
        "id": "kWANotfIoUsK"
      }
    },
    {
      "cell_type": "markdown",
      "source": [
        "The frozenset() function returns an unchangeable frozenset object(which is like set object, only unchangeable)"
      ],
      "metadata": {
        "id": "mRbBbIBjoYi7"
      }
    },
    {
      "cell_type": "code",
      "source": [
        "mylist = ['apple', 'banana', 'cherry']\n",
        "x = frozenset(mylist)\n",
        "\n",
        "print(x)"
      ],
      "metadata": {
        "id": "mgS7rkw1ouyp",
        "outputId": "c983cf5d-69ed-4a51-93c4-a25cd9a029e1",
        "colab": {
          "base_uri": "https://localhost:8080/"
        }
      },
      "execution_count": null,
      "outputs": [
        {
          "output_type": "stream",
          "name": "stdout",
          "text": [
            "frozenset({'banana', 'apple', 'cherry'})\n"
          ]
        }
      ]
    },
    {
      "cell_type": "code",
      "source": [
        ""
      ],
      "metadata": {
        "id": "ozDIAEJJowhF"
      },
      "execution_count": null,
      "outputs": []
    }
  ]
}