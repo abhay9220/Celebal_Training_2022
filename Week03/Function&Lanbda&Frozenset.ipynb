{
  "nbformat": 4,
  "nbformat_minor": 0,
  "metadata": {
    "colab": {
      "name": "Function&Lanbda&Frozenset.ipynb",
      "provenance": []
    },
    "kernelspec": {
      "name": "python3",
      "display_name": "Python 3"
    },
    "language_info": {
      "name": "python"
    }
  },
  "cells": [
    {
      "cell_type": "markdown",
      "source": [
        "**Function**"
      ],
      "metadata": {
        "id": "siENqAPql81n"
      }
    },
    {
      "cell_type": "markdown",
      "source": [
        "\n",
        "\n",
        "*   A function is a block of code which only runs when it is called\n",
        "\n",
        "*   You can pass data, called as parameters, into a function\n",
        "*   A function can return data as a result\n",
        "\n",
        "\n",
        "\n",
        "\n"
      ],
      "metadata": {
        "id": "ATgadH9emCaU"
      }
    },
    {
      "cell_type": "code",
      "source": [
        "#creating a function\n",
        "def coe():\n",
        "  print(\"Sanjivani COE\")\n",
        "\n",
        "#calling a function\n",
        "coe()"
      ],
      "metadata": {
        "colab": {
          "base_uri": "https://localhost:8080/"
        },
        "id": "2GzLKVOAmgp9",
        "outputId": "71a2cade-38e4-4072-e322-2e75baa9f8b7"
      },
      "execution_count": null,
      "outputs": [
        {
          "output_type": "stream",
          "name": "stdout",
          "text": [
            "Sanjivani COE\n"
          ]
        }
      ]
    },
    {
      "cell_type": "code",
      "source": [
        "#argument\n",
        "def data(name):\n",
        "  print(name +\" \"+ 'Div')\n",
        "\n",
        "data('Comp')"
      ],
      "metadata": {
        "colab": {
          "base_uri": "https://localhost:8080/"
        },
        "id": "1M_-a8Jzmti5",
        "outputId": "6212ba33-c32d-45fb-d9f2-aeec75f6dff7"
      },
      "execution_count": null,
      "outputs": [
        {
          "output_type": "stream",
          "name": "stdout",
          "text": [
            "Comp Div\n"
          ]
        }
      ]
    },
    {
      "cell_type": "code",
      "source": [
        "def my_function(food):\n",
        "  for x in food:\n",
        "    print(x)\n",
        "\n",
        "fruits = [\"apple\", \"banana\", \"cherry\"]\n",
        "\n",
        "my_function(fruits)"
      ],
      "metadata": {
        "colab": {
          "base_uri": "https://localhost:8080/"
        },
        "id": "XJTY9hgNnF5M",
        "outputId": "edc9b57b-9142-48e4-a121-2cf2fc860318"
      },
      "execution_count": null,
      "outputs": [
        {
          "output_type": "stream",
          "name": "stdout",
          "text": [
            "apple\n",
            "banana\n",
            "cherry\n"
          ]
        }
      ]
    },
    {
      "cell_type": "markdown",
      "source": [
        "**Lambda**"
      ],
      "metadata": {
        "id": "HJdlv-sxnXHd"
      }
    },
    {
      "cell_type": "markdown",
      "source": [
        "\n",
        "\n",
        "*   A lambda function is a small anonymous function\n",
        "*   A lambda function can take any number of arguments, but can only have one expression\n",
        "\n"
      ],
      "metadata": {
        "id": "SiZJsw-Rnbhs"
      }
    },
    {
      "cell_type": "code",
      "source": [
        "x = lambda a : a + 20\n",
        "print(x(3))"
      ],
      "metadata": {
        "colab": {
          "base_uri": "https://localhost:8080/"
        },
        "id": "-i4yMXW8ntIq",
        "outputId": "00f2b9fc-f1de-44aa-dc46-c54ab17d3ed1"
      },
      "execution_count": null,
      "outputs": [
        {
          "output_type": "stream",
          "name": "stdout",
          "text": [
            "23\n"
          ]
        }
      ]
    },
    {
      "cell_type": "code",
      "source": [
        "a = lambda x,y : x*y\n",
        "print(a(2,4))"
      ],
      "metadata": {
        "colab": {
          "base_uri": "https://localhost:8080/"
        },
        "id": "CCgHOBkzn1VQ",
        "outputId": "fa893844-9e91-4e32-d58a-37b398011bc3"
      },
      "execution_count": null,
      "outputs": [
        {
          "output_type": "stream",
          "name": "stdout",
          "text": [
            "8\n"
          ]
        }
      ]
    },
    {
      "cell_type": "code",
      "source": [
        "def coe(n):\n",
        "  return lambda a : a*n\n",
        "\n",
        "x = coe(2)\n",
        "print(x(4))"
      ],
      "metadata": {
        "colab": {
          "base_uri": "https://localhost:8080/"
        },
        "id": "JggUEGbZn9V7",
        "outputId": "e59dbd6a-9e47-4b59-861b-041509920de8"
      },
      "execution_count": null,
      "outputs": [
        {
          "output_type": "stream",
          "name": "stdout",
          "text": [
            "8\n"
          ]
        }
      ]
    },
    {
      "cell_type": "markdown",
      "source": [
        "**frozeset()**"
      ],
      "metadata": {
        "id": "kWANotfIoUsK"
      }
    },
    {
      "cell_type": "markdown",
      "source": [
        "The frozenset() function returns an unchangeable frozenset object(which is like set object, only unchangeable)"
      ],
      "metadata": {
        "id": "mRbBbIBjoYi7"
      }
    },
    {
      "cell_type": "code",
      "source": [
        "mylist = ['apple', 'banana', 'cherry']\n",
        "x = frozenset(mylist)\n",
        "\n",
        "print(x)"
      ],
      "metadata": {
        "id": "mgS7rkw1ouyp",
        "outputId": "c4241170-05ec-4e1d-b75c-f5b625941cb2",
        "colab": {
          "base_uri": "https://localhost:8080/"
        }
      },
      "execution_count": null,
      "outputs": [
        {
          "output_type": "stream",
          "name": "stdout",
          "text": [
            "frozenset({'cherry', 'apple', 'banana'})\n"
          ]
        }
      ]
    },
    {
      "cell_type": "code",
      "source": [
        ""
      ],
      "metadata": {
        "id": "ozDIAEJJowhF"
      },
      "execution_count": null,
      "outputs": []
    }
  ]
}